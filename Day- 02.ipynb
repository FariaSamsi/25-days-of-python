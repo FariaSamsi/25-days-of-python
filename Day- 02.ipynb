{
 "cells": [
  {
   "cell_type": "markdown",
   "id": "3e2a093f",
   "metadata": {},
   "source": [
    "# Day- 02 of 60 days of python"
   ]
  },
  {
   "cell_type": "code",
   "execution_count": 6,
   "id": "4f5fbb2b",
   "metadata": {},
   "outputs": [
    {
     "name": "stdout",
     "output_type": "stream",
     "text": [
      "Hello World & Welcome to 60 days of Python|"
     ]
    }
   ],
   "source": [
    "print('Hello World','Welcome to 60 days of Python', sep=\" & \", end=\"|\") #shift+enter = run cell"
   ]
  },
  {
   "cell_type": "code",
   "execution_count": 7,
   "id": "d0ef7d6c",
   "metadata": {},
   "outputs": [
    {
     "name": "stdout",
     "output_type": "stream",
     "text": [
      "hello world\n"
     ]
    }
   ],
   "source": [
    "var = \"hello world\"\n",
    "print(var)"
   ]
  },
  {
   "cell_type": "code",
   "execution_count": 11,
   "id": "c9669632",
   "metadata": {},
   "outputs": [
    {
     "name": "stdout",
     "output_type": "stream",
     "text": [
      "my sentence is hello world\n",
      "my sentence is hello world\n"
     ]
    }
   ],
   "source": [
    "print('my sentence is',var) #shift+tab = description of a function\n",
    "print('my sentence is ' +var)"
   ]
  },
  {
   "cell_type": "code",
   "execution_count": 12,
   "id": "2b261653",
   "metadata": {},
   "outputs": [
    {
     "data": {
      "text/plain": [
       "4354101680"
      ]
     },
     "execution_count": 12,
     "metadata": {},
     "output_type": "execute_result"
    }
   ],
   "source": [
    "id(var) #memory location of var"
   ]
  },
  {
   "cell_type": "code",
   "execution_count": 13,
   "id": "273cc00c",
   "metadata": {},
   "outputs": [
    {
     "data": {
      "text/plain": [
       "60"
      ]
     },
     "execution_count": 13,
     "metadata": {},
     "output_type": "execute_result"
    }
   ],
   "source": [
    "import sys\n",
    "sys.getsizeof(var) #memory space for var"
   ]
  },
  {
   "cell_type": "code",
   "execution_count": 14,
   "id": "c0ea96cc",
   "metadata": {},
   "outputs": [
    {
     "data": {
      "text/plain": [
       "100"
      ]
     },
     "execution_count": 14,
     "metadata": {},
     "output_type": "execute_result"
    }
   ],
   "source": [
    "x=100\n",
    "x"
   ]
  },
  {
   "cell_type": "code",
   "execution_count": 15,
   "id": "7ff3c37e",
   "metadata": {},
   "outputs": [
    {
     "data": {
      "text/plain": [
       "100"
      ]
     },
     "execution_count": 15,
     "metadata": {},
     "output_type": "execute_result"
    }
   ],
   "source": [
    "y=100\n",
    "y"
   ]
  },
  {
   "cell_type": "code",
   "execution_count": 16,
   "id": "49535ef1",
   "metadata": {},
   "outputs": [
    {
     "data": {
      "text/plain": [
       "4300754256"
      ]
     },
     "execution_count": 16,
     "metadata": {},
     "output_type": "execute_result"
    }
   ],
   "source": [
    "id(x)"
   ]
  },
  {
   "cell_type": "code",
   "execution_count": 17,
   "id": "0ee78971",
   "metadata": {},
   "outputs": [
    {
     "data": {
      "text/plain": [
       "4300754256"
      ]
     },
     "execution_count": 17,
     "metadata": {},
     "output_type": "execute_result"
    }
   ],
   "source": [
    "id(y)"
   ]
  },
  {
   "cell_type": "code",
   "execution_count": 18,
   "id": "783c6f61",
   "metadata": {},
   "outputs": [
    {
     "data": {
      "text/plain": [
       "100"
      ]
     },
     "execution_count": 18,
     "metadata": {},
     "output_type": "execute_result"
    }
   ],
   "source": [
    "x,y,z = 10,100,1000 #multiple variable assignment\n",
    "y"
   ]
  },
  {
   "cell_type": "code",
   "execution_count": 19,
   "id": "7923de93",
   "metadata": {},
   "outputs": [
    {
     "data": {
      "text/plain": [
       "'samsi'"
      ]
     },
     "execution_count": 19,
     "metadata": {},
     "output_type": "execute_result"
    }
   ],
   "source": [
    "x,y,z= 10,100,\"samsi\"\n",
    "z"
   ]
  },
  {
   "cell_type": "markdown",
   "id": "f7846ea7",
   "metadata": {},
   "source": [
    "# Local Vs Global Variable\n"
   ]
  },
  {
   "cell_type": "code",
   "execution_count": 20,
   "id": "d060851d",
   "metadata": {},
   "outputs": [
    {
     "name": "stdout",
     "output_type": "stream",
     "text": [
      "my number is  100\n",
      "my number is  100\n"
     ]
    }
   ],
   "source": [
    "x = 100\n",
    "def function1():\n",
    "    print(\"my number is \",x)\n",
    "function1()\n",
    "def function2():\n",
    "    print(\"my number is \",x)\n",
    "function2()"
   ]
  },
  {
   "cell_type": "code",
   "execution_count": 21,
   "id": "90ae1922",
   "metadata": {},
   "outputs": [
    {
     "name": "stdout",
     "output_type": "stream",
     "text": [
      "my number is  500\n",
      "my number is  100\n"
     ]
    }
   ],
   "source": [
    "x = 100\n",
    "def function1():\n",
    "    x=500\n",
    "    print(\"my number is \",x)\n",
    "function1()\n",
    "def function2():\n",
    "    print(\"my number is \",x)\n",
    "function2()"
   ]
  },
  {
   "cell_type": "code",
   "execution_count": 22,
   "id": "000dd2fe",
   "metadata": {},
   "outputs": [
    {
     "name": "stdout",
     "output_type": "stream",
     "text": [
      "my number is  300\n",
      "my number is  300\n"
     ]
    }
   ],
   "source": [
    "\n",
    "def function1():\n",
    "    global x #making a local variable global\n",
    "    x = 300\n",
    "    print(\"my number is \",x)\n",
    "function1()\n",
    "def function2():\n",
    "    print(\"my number is \",x)\n",
    "function2()"
   ]
  },
  {
   "cell_type": "code",
   "execution_count": null,
   "id": "cb90864f",
   "metadata": {},
   "outputs": [],
   "source": []
  }
 ],
 "metadata": {
  "kernelspec": {
   "display_name": "Python 3 (ipykernel)",
   "language": "python",
   "name": "python3"
  },
  "language_info": {
   "codemirror_mode": {
    "name": "ipython",
    "version": 3
   },
   "file_extension": ".py",
   "mimetype": "text/x-python",
   "name": "python",
   "nbconvert_exporter": "python",
   "pygments_lexer": "ipython3",
   "version": "3.10.9"
  }
 },
 "nbformat": 4,
 "nbformat_minor": 5
}

{
 "cells": [
  {
   "cell_type": "markdown",
   "id": "16ba6528",
   "metadata": {},
   "source": [
    "# Assignment 1"
   ]
  },
  {
   "cell_type": "code",
   "execution_count": 3,
   "id": "f03afa2f",
   "metadata": {},
   "outputs": [
    {
     "name": "stdout",
     "output_type": "stream",
     "text": [
      "Enter the length: 34\n",
      "Enter the breadth: 23\n",
      "it is not a square\n"
     ]
    }
   ],
   "source": [
    "num1 = float(input('Enter the length: '))\n",
    "num2 = float(input('Enter the breadth: '))\n",
    "if num1==num2:\n",
    "    print('It is a square!')\n",
    "else:\n",
    "          print('it is not a square')"
   ]
  },
  {
   "cell_type": "markdown",
   "id": "5d2a29e5",
   "metadata": {},
   "source": [
    "# Assignment 2- greatest number"
   ]
  },
  {
   "cell_type": "code",
   "execution_count": 4,
   "id": "b09a8713",
   "metadata": {},
   "outputs": [
    {
     "name": "stdout",
     "output_type": "stream",
     "text": [
      "Enter number 1: 12\n",
      "Enter number 2: 34\n",
      "Enter number 3: 2\n",
      "34.0 is the greatest number\n"
     ]
    }
   ],
   "source": [
    "num1 = float(input('Enter number 1: '))\n",
    "num2 = float(input('Enter number 2: '))\n",
    "num3 = float(input('Enter number 3: '))\n",
    "if num1>num2 and num1>num3:\n",
    "    print(num1,'is the greatest number')\n",
    "elif num2>num1 and num2>num3:\n",
    "    print(num2,'is the greatest number')\n",
    "else:\n",
    "    print(num3,'is the greatest number')"
   ]
  },
  {
   "cell_type": "markdown",
   "id": "303e4123",
   "metadata": {},
   "source": [
    "# Assignment 3- eligible for exam according to attendance"
   ]
  },
  {
   "cell_type": "code",
   "execution_count": 7,
   "id": "d205d4ea",
   "metadata": {},
   "outputs": [
    {
     "name": "stdout",
     "output_type": "stream",
     "text": [
      "Enter total number of classes taken: 90\n",
      "Enter your attendance: 80\n",
      "you are eligible for exam\n"
     ]
    }
   ],
   "source": [
    "total_attendance = int(input('Enter total number of classes taken: '))\n",
    "attendance = int(input('Enter your attendance: '))\n",
    "percentile = (attendance/total_attendance)*100\n",
    "if percentile>=75:\n",
    "    print(\"you are eligible for exam\")\n",
    "else:\n",
    "    print(\"you are not eligible for exam\")\n",
    "\n",
    "    "
   ]
  },
  {
   "cell_type": "markdown",
   "id": "5671c5d6",
   "metadata": {},
   "source": [
    "# Assignment 4- grading system"
   ]
  },
  {
   "cell_type": "code",
   "execution_count": 11,
   "id": "5ff6e4a3",
   "metadata": {},
   "outputs": [
    {
     "name": "stdout",
     "output_type": "stream",
     "text": [
      "Enter your marks: 56\n",
      "grade C\n"
     ]
    }
   ],
   "source": [
    "mark = float(input('Enter your marks: '))\n",
    "if mark<25:\n",
    "    print('grade F')\n",
    "elif mark>=25 and mark<=44:\n",
    "    print('grade E')\n",
    "elif mark>=45 and mark<=49:\n",
    "    print('grade D')\n",
    "elif mark>=50 and mark<=59:\n",
    "    print('grade C')\n",
    "elif mark>=60 and mark<=79:\n",
    "    print('grade B')\n",
    "elif mark>=80 and mark<=89:\n",
    "    print('grade A')\n",
    "else:\n",
    "    print('grade A+')"
   ]
  },
  {
   "cell_type": "code",
   "execution_count": null,
   "id": "acadaffe",
   "metadata": {},
   "outputs": [],
   "source": []
  }
 ],
 "metadata": {
  "kernelspec": {
   "display_name": "Python 3 (ipykernel)",
   "language": "python",
   "name": "python3"
  },
  "language_info": {
   "codemirror_mode": {
    "name": "ipython",
    "version": 3
   },
   "file_extension": ".py",
   "mimetype": "text/x-python",
   "name": "python",
   "nbconvert_exporter": "python",
   "pygments_lexer": "ipython3",
   "version": "3.10.9"
  }
 },
 "nbformat": 4,
 "nbformat_minor": 5
}

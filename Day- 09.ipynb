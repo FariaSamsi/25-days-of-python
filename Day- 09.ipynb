{
 "cells": [
  {
   "cell_type": "markdown",
   "id": "e46c6f4b",
   "metadata": {},
   "source": [
    "# Exercise-1: display numbers from -100 to -10"
   ]
  },
  {
   "cell_type": "code",
   "execution_count": 2,
   "id": "b1040c4d",
   "metadata": {},
   "outputs": [
    {
     "name": "stdout",
     "output_type": "stream",
     "text": [
      "-100\n",
      "-99\n",
      "-98\n",
      "-97\n",
      "-96\n",
      "-95\n",
      "-94\n",
      "-93\n",
      "-92\n",
      "-91\n",
      "-90\n",
      "-89\n",
      "-88\n",
      "-87\n",
      "-86\n",
      "-85\n",
      "-84\n",
      "-83\n",
      "-82\n",
      "-81\n",
      "-80\n",
      "-79\n",
      "-78\n",
      "-77\n",
      "-76\n",
      "-75\n",
      "-74\n",
      "-73\n",
      "-72\n",
      "-71\n",
      "-70\n",
      "-69\n",
      "-68\n",
      "-67\n",
      "-66\n",
      "-65\n",
      "-64\n",
      "-63\n",
      "-62\n",
      "-61\n",
      "-60\n",
      "-59\n",
      "-58\n",
      "-57\n",
      "-56\n",
      "-55\n",
      "-54\n",
      "-53\n",
      "-52\n",
      "-51\n",
      "-50\n",
      "-49\n",
      "-48\n",
      "-47\n",
      "-46\n",
      "-45\n",
      "-44\n",
      "-43\n",
      "-42\n",
      "-41\n",
      "-40\n",
      "-39\n",
      "-38\n",
      "-37\n",
      "-36\n",
      "-35\n",
      "-34\n",
      "-33\n",
      "-32\n",
      "-31\n",
      "-30\n",
      "-29\n",
      "-28\n",
      "-27\n",
      "-26\n",
      "-25\n",
      "-24\n",
      "-23\n",
      "-22\n",
      "-21\n",
      "-20\n",
      "-19\n",
      "-18\n",
      "-17\n",
      "-16\n",
      "-15\n",
      "-14\n",
      "-13\n",
      "-12\n",
      "-11\n",
      "-10\n"
     ]
    }
   ],
   "source": [
    "for i in range(-100,-9,1):\n",
    "    print(i)"
   ]
  },
  {
   "cell_type": "markdown",
   "id": "b87666a6",
   "metadata": {},
   "source": [
    "# Exercise 2- sum all prime numbers within a range of 10 to 1000"
   ]
  },
  {
   "cell_type": "code",
   "execution_count": 4,
   "id": "96e870e0",
   "metadata": {},
   "outputs": [
    {
     "name": "stdout",
     "output_type": "stream",
     "text": [
      "total is 76110\n"
     ]
    }
   ],
   "source": [
    "total = 0\n",
    "for i in range(10,1001):\n",
    "    num = i\n",
    "    for x in range(2,i):\n",
    "        if i%x==0:\n",
    "            prime_num=0\n",
    "            break\n",
    "        else:\n",
    "            prime_num=num\n",
    "    total=total + prime_num\n",
    "print('total is',total)\n",
    "            "
   ]
  },
  {
   "cell_type": "markdown",
   "id": "36dd2a0d",
   "metadata": {},
   "source": [
    "# Exercise 3- find the factorial of n"
   ]
  },
  {
   "cell_type": "code",
   "execution_count": 6,
   "id": "c147541e",
   "metadata": {},
   "outputs": [
    {
     "name": "stdout",
     "output_type": "stream",
     "text": [
      "Enter your number: 8\n",
      "40320\n"
     ]
    }
   ],
   "source": [
    "n = int(input('Enter your number: '))\n",
    "factorial= n\n",
    "for i in range(1,n):\n",
    "    factorial = factorial*i\n",
    "print(factorial)"
   ]
  },
  {
   "cell_type": "markdown",
   "id": "21d77774",
   "metadata": {},
   "source": [
    "# Exercise 4- reverse a given integer number"
   ]
  },
  {
   "cell_type": "code",
   "execution_count": 26,
   "id": "82a74733",
   "metadata": {},
   "outputs": [
    {
     "name": "stdout",
     "output_type": "stream",
     "text": [
      "Enter your integer number: 27956240710\n",
      "0\n",
      "1\n",
      "7\n",
      "0\n",
      "4\n",
      "2\n",
      "6\n",
      "5\n",
      "9\n",
      "7\n",
      "2\n",
      "1704265972\n"
     ]
    }
   ],
   "source": [
    "number = int(input('Enter your integer number: '))\n",
    "num = str(number)\n",
    "reverse_num =''\n",
    "index = len(num)-1\n",
    "for i in range(index,-1,-1):\n",
    "    reverse_num = reverse_num + num[i]\n",
    "print(int(reverse_num))\n",
    "print(reverse_num)"
   ]
  },
  {
   "cell_type": "code",
   "execution_count": null,
   "id": "d6af0614",
   "metadata": {},
   "outputs": [],
   "source": []
  }
 ],
 "metadata": {
  "kernelspec": {
   "display_name": "Python 3 (ipykernel)",
   "language": "python",
   "name": "python3"
  },
  "language_info": {
   "codemirror_mode": {
    "name": "ipython",
    "version": 3
   },
   "file_extension": ".py",
   "mimetype": "text/x-python",
   "name": "python",
   "nbconvert_exporter": "python",
   "pygments_lexer": "ipython3",
   "version": "3.10.9"
  }
 },
 "nbformat": 4,
 "nbformat_minor": 5
}

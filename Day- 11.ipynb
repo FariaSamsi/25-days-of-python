{
 "cells": [
  {
   "cell_type": "markdown",
   "id": "58a71d3d",
   "metadata": {},
   "source": [
    "# Exercise 2- sum all the prime numbers from 10 to 1000"
   ]
  },
  {
   "cell_type": "code",
   "execution_count": 1,
   "id": "e5475000",
   "metadata": {},
   "outputs": [
    {
     "name": "stdout",
     "output_type": "stream",
     "text": [
      "76110\n"
     ]
    }
   ],
   "source": [
    "x = 10\n",
    "total = 0\n",
    "while x<1000:\n",
    "    num=x\n",
    "    y=2\n",
    "    while y<x:\n",
    "        if x%y==0:\n",
    "            prime_num=0\n",
    "            break\n",
    "        else:\n",
    "            prime_num=num\n",
    "        y=y+1\n",
    "    total = total+prime_num\n",
    "    x = x+1\n",
    "\n",
    "print(total)"
   ]
  },
  {
   "cell_type": "markdown",
   "id": "5f8f987e",
   "metadata": {},
   "source": [
    "# Exercise 3- factorial"
   ]
  },
  {
   "cell_type": "code",
   "execution_count": 4,
   "id": "29830158",
   "metadata": {},
   "outputs": [
    {
     "name": "stdout",
     "output_type": "stream",
     "text": [
      "Enter your number: 8\n",
      "40320\n"
     ]
    }
   ],
   "source": [
    "num = int(input('Enter your number: '))\n",
    "factorial = 1\n",
    "while num>1:\n",
    "    factorial = factorial*num\n",
    "    num = num-1\n",
    "print(factorial)"
   ]
  },
  {
   "cell_type": "markdown",
   "id": "d5bea5a5",
   "metadata": {},
   "source": [
    "# Exercise 4- reverse an integer number"
   ]
  },
  {
   "cell_type": "code",
   "execution_count": 7,
   "id": "3ca2ecb4",
   "metadata": {},
   "outputs": [
    {
     "name": "stdout",
     "output_type": "stream",
     "text": [
      "Enter your number: 1200\n",
      "0021\n",
      "21\n"
     ]
    }
   ],
   "source": [
    "num = input('Enter your number: ')\n",
    "reverse_num=''\n",
    "index = len(num)-1\n",
    "x = 0\n",
    "while index>=0:\n",
    "    reverse_num = reverse_num+num[index]\n",
    "    index=index-1\n",
    "print(reverse_num)\n",
    "print(int(reverse_num))\n",
    "    \n",
    "    "
   ]
  },
  {
   "cell_type": "code",
   "execution_count": null,
   "id": "aee1db31",
   "metadata": {},
   "outputs": [],
   "source": []
  }
 ],
 "metadata": {
  "kernelspec": {
   "display_name": "Python 3 (ipykernel)",
   "language": "python",
   "name": "python3"
  },
  "language_info": {
   "codemirror_mode": {
    "name": "ipython",
    "version": 3
   },
   "file_extension": ".py",
   "mimetype": "text/x-python",
   "name": "python",
   "nbconvert_exporter": "python",
   "pygments_lexer": "ipython3",
   "version": "3.10.9"
  }
 },
 "nbformat": 4,
 "nbformat_minor": 5
}

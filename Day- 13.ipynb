{
 "cells": [
  {
   "cell_type": "markdown",
   "id": "56e522d3",
   "metadata": {},
   "source": [
    "# List"
   ]
  },
  {
   "cell_type": "code",
   "execution_count": 1,
   "id": "1666a4f7",
   "metadata": {},
   "outputs": [
    {
     "data": {
      "text/plain": [
       "list"
      ]
     },
     "execution_count": 1,
     "metadata": {},
     "output_type": "execute_result"
    }
   ],
   "source": [
    "li = [2,8,5,10]\n",
    "type(li)"
   ]
  },
  {
   "cell_type": "code",
   "execution_count": 2,
   "id": "b8e9b3ca",
   "metadata": {},
   "outputs": [
    {
     "data": {
      "text/plain": [
       "2"
      ]
     },
     "execution_count": 2,
     "metadata": {},
     "output_type": "execute_result"
    }
   ],
   "source": [
    "li[0]"
   ]
  },
  {
   "cell_type": "code",
   "execution_count": 4,
   "id": "5b3531fc",
   "metadata": {},
   "outputs": [
    {
     "data": {
      "text/plain": [
       "['Ai quest', 8, 5, 10]"
      ]
     },
     "execution_count": 4,
     "metadata": {},
     "output_type": "execute_result"
    }
   ],
   "source": [
    "li[0]='Ai quest'\n",
    "li"
   ]
  },
  {
   "cell_type": "code",
   "execution_count": 6,
   "id": "ebb4bbdc",
   "metadata": {},
   "outputs": [
    {
     "data": {
      "text/plain": [
       "['Ai quest', 8, 5, 10, 'study mart']"
      ]
     },
     "execution_count": 6,
     "metadata": {},
     "output_type": "execute_result"
    }
   ],
   "source": [
    "li.append('study mart')\n",
    "li"
   ]
  },
  {
   "cell_type": "code",
   "execution_count": 7,
   "id": "2a667909",
   "metadata": {},
   "outputs": [],
   "source": [
    "li.append(5)"
   ]
  },
  {
   "cell_type": "code",
   "execution_count": 8,
   "id": "7038b78e",
   "metadata": {},
   "outputs": [
    {
     "data": {
      "text/plain": [
       "['Ai quest', 8, 5, 10, 'study mart', 5]"
      ]
     },
     "execution_count": 8,
     "metadata": {},
     "output_type": "execute_result"
    }
   ],
   "source": [
    "li"
   ]
  },
  {
   "cell_type": "code",
   "execution_count": 9,
   "id": "999b55d8",
   "metadata": {},
   "outputs": [
    {
     "data": {
      "text/plain": [
       "['Ai quest', 8, 5, 10, 'study mart']"
      ]
     },
     "execution_count": 9,
     "metadata": {},
     "output_type": "execute_result"
    }
   ],
   "source": [
    "li.pop()\n",
    "li"
   ]
  },
  {
   "cell_type": "code",
   "execution_count": 10,
   "id": "1406a410",
   "metadata": {},
   "outputs": [
    {
     "data": {
      "text/plain": [
       "['Ai quest', 8, 10, 'study mart']"
      ]
     },
     "execution_count": 10,
     "metadata": {},
     "output_type": "execute_result"
    }
   ],
   "source": [
    "li.pop(2)\n",
    "li"
   ]
  },
  {
   "cell_type": "code",
   "execution_count": 11,
   "id": "0f0a1008",
   "metadata": {},
   "outputs": [
    {
     "data": {
      "text/plain": [
       "['Ai quest', 8]"
      ]
     },
     "execution_count": 11,
     "metadata": {},
     "output_type": "execute_result"
    }
   ],
   "source": [
    "li[0:2]"
   ]
  },
  {
   "cell_type": "code",
   "execution_count": 12,
   "id": "bc6d2ba2",
   "metadata": {},
   "outputs": [
    {
     "data": {
      "text/plain": [
       "['Ai quest', 2, 3, (1, 2, 3), 'science']"
      ]
     },
     "execution_count": 12,
     "metadata": {},
     "output_type": "execute_result"
    }
   ],
   "source": [
    "#creating list using list constructor\n",
    "li2 = list(('Ai quest',2,3,(1,2,3),'science'))\n",
    "li2"
   ]
  },
  {
   "cell_type": "code",
   "execution_count": 13,
   "id": "c6c8b1f7",
   "metadata": {},
   "outputs": [
    {
     "data": {
      "text/plain": [
       "(1, 2, 3)"
      ]
     },
     "execution_count": 13,
     "metadata": {},
     "output_type": "execute_result"
    }
   ],
   "source": [
    "li2[3]"
   ]
  },
  {
   "cell_type": "code",
   "execution_count": 14,
   "id": "0920b0ab",
   "metadata": {},
   "outputs": [
    {
     "data": {
      "text/plain": [
       "2"
      ]
     },
     "execution_count": 14,
     "metadata": {},
     "output_type": "execute_result"
    }
   ],
   "source": [
    "li2[3][1]"
   ]
  },
  {
   "cell_type": "code",
   "execution_count": null,
   "id": "fb984747",
   "metadata": {},
   "outputs": [],
   "source": [
    "#taking list input from user\n",
    "n = int(input('Enter your index: '))\n",
    "li3 = []\n",
    "for i in range(n):\n",
    "    new = int(input())\n",
    "    li3.append(new)\n",
    "print(li3)"
   ]
  },
  {
   "cell_type": "code",
   "execution_count": null,
   "id": "99192898",
   "metadata": {},
   "outputs": [],
   "source": []
  }
 ],
 "metadata": {
  "kernelspec": {
   "display_name": "Python 3 (ipykernel)",
   "language": "python",
   "name": "python3"
  },
  "language_info": {
   "codemirror_mode": {
    "name": "ipython",
    "version": 3
   },
   "file_extension": ".py",
   "mimetype": "text/x-python",
   "name": "python",
   "nbconvert_exporter": "python",
   "pygments_lexer": "ipython3",
   "version": "3.10.9"
  }
 },
 "nbformat": 4,
 "nbformat_minor": 5
}

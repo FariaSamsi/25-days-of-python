{
 "cells": [
  {
   "cell_type": "markdown",
   "id": "4b318518",
   "metadata": {},
   "source": [
    "# List methods"
   ]
  },
  {
   "cell_type": "markdown",
   "id": "3632943e",
   "metadata": {},
   "source": [
    "# Copy()"
   ]
  },
  {
   "cell_type": "code",
   "execution_count": 1,
   "id": "c6d92b6b",
   "metadata": {},
   "outputs": [
    {
     "data": {
      "text/plain": [
       "['ai', 'cs', 'ds', True, 150, 20, [13, 24], (5, 7, 9)]"
      ]
     },
     "execution_count": 1,
     "metadata": {},
     "output_type": "execute_result"
    }
   ],
   "source": [
    "li1 = ['ai','cs','ds',True,150,20,[13,24],(5,7,9)]\n",
    "li2 = li1\n",
    "li2"
   ]
  },
  {
   "cell_type": "code",
   "execution_count": 2,
   "id": "3e91fbe4",
   "metadata": {},
   "outputs": [
    {
     "data": {
      "text/plain": [
       "['ai', 'cs', 'ds', True, 150, 20, [13, 24], (5, 7, 9), 0]"
      ]
     },
     "execution_count": 2,
     "metadata": {},
     "output_type": "execute_result"
    }
   ],
   "source": [
    "li1.append(0)#updating li1 autometically updates li2\n",
    "li2"
   ]
  },
  {
   "cell_type": "code",
   "execution_count": 3,
   "id": "4ef58b0a",
   "metadata": {},
   "outputs": [
    {
     "data": {
      "text/plain": [
       "['ai', 'cs', 'ds', True, 150, 20, [13, 24], (5, 7, 9), 0]"
      ]
     },
     "execution_count": 3,
     "metadata": {},
     "output_type": "execute_result"
    }
   ],
   "source": [
    "li3 = li1.copy()#updating li1 doesn't update li3\n",
    "li3"
   ]
  },
  {
   "cell_type": "code",
   "execution_count": 6,
   "id": "6cac4612",
   "metadata": {},
   "outputs": [
    {
     "data": {
      "text/plain": [
       "['ai', 'cs', 'ds', True, 150, 20, [13, 24], (5, 7, 9), 0]"
      ]
     },
     "execution_count": 6,
     "metadata": {},
     "output_type": "execute_result"
    }
   ],
   "source": [
    "li1.append(22)#adding a value to list\n",
    "li3"
   ]
  },
  {
   "cell_type": "code",
   "execution_count": 7,
   "id": "4464b8e9",
   "metadata": {},
   "outputs": [
    {
     "data": {
      "text/plain": [
       "['ai', 'cs', 'ds', True, 150, 20, [13, 24], (5, 7, 9), 0, 22, 22, 22]"
      ]
     },
     "execution_count": 7,
     "metadata": {},
     "output_type": "execute_result"
    }
   ],
   "source": [
    "li1"
   ]
  },
  {
   "cell_type": "markdown",
   "id": "8b454d07",
   "metadata": {},
   "source": [
    "# extend()"
   ]
  },
  {
   "cell_type": "code",
   "execution_count": 8,
   "id": "92bc8cc8",
   "metadata": {},
   "outputs": [
    {
     "data": {
      "text/plain": [
       "['ai',\n",
       " 'cs',\n",
       " 'ds',\n",
       " True,\n",
       " 150,\n",
       " 20,\n",
       " [13, 24],\n",
       " (5, 7, 9),\n",
       " 0,\n",
       " 22,\n",
       " 22,\n",
       " 22,\n",
       " [2, 3, 4]]"
      ]
     },
     "execution_count": 8,
     "metadata": {},
     "output_type": "execute_result"
    }
   ],
   "source": [
    "li4 = [2,3,4]\n",
    "li1.append(li4)#adds whole list as an element\n",
    "li1"
   ]
  },
  {
   "cell_type": "code",
   "execution_count": 10,
   "id": "348d441f",
   "metadata": {},
   "outputs": [
    {
     "name": "stdout",
     "output_type": "stream",
     "text": [
      "['ai', 'cs', 'ds', True, 150, 20, [13, 24], (5, 7, 9), 0, 2, 3, 4]\n"
     ]
    }
   ],
   "source": [
    "li3.extend(li4)#adds the list elements, not the whole list as an element\n",
    "print(li3)"
   ]
  },
  {
   "cell_type": "markdown",
   "id": "358cfd36",
   "metadata": {},
   "source": [
    "# insert()"
   ]
  },
  {
   "cell_type": "code",
   "execution_count": 11,
   "id": "4deb3f15",
   "metadata": {},
   "outputs": [
    {
     "name": "stdout",
     "output_type": "stream",
     "text": [
      "[2, 35, 99, 5]\n"
     ]
    }
   ],
   "source": [
    "li5 =[2,35,5]\n",
    "li5.insert(2,99)#adds element in a specific index\n",
    "print(li5)"
   ]
  },
  {
   "cell_type": "markdown",
   "id": "0fc9a1ed",
   "metadata": {},
   "source": [
    "# index()"
   ]
  },
  {
   "cell_type": "code",
   "execution_count": 12,
   "id": "938de430",
   "metadata": {},
   "outputs": [
    {
     "data": {
      "text/plain": [
       "2"
      ]
     },
     "execution_count": 12,
     "metadata": {},
     "output_type": "execute_result"
    }
   ],
   "source": [
    "li5.index(99)"
   ]
  },
  {
   "cell_type": "markdown",
   "id": "9169c5d3",
   "metadata": {},
   "source": [
    "# count()"
   ]
  },
  {
   "cell_type": "code",
   "execution_count": 13,
   "id": "9ef04fbc",
   "metadata": {},
   "outputs": [
    {
     "data": {
      "text/plain": [
       "2"
      ]
     },
     "execution_count": 13,
     "metadata": {},
     "output_type": "execute_result"
    }
   ],
   "source": [
    "li5.append(99)\n",
    "li5.count(99)"
   ]
  },
  {
   "cell_type": "markdown",
   "id": "6095a453",
   "metadata": {},
   "source": [
    "# sort()"
   ]
  },
  {
   "cell_type": "code",
   "execution_count": 14,
   "id": "487c360c",
   "metadata": {},
   "outputs": [],
   "source": [
    "li5.sort()#ascending order"
   ]
  },
  {
   "cell_type": "code",
   "execution_count": 15,
   "id": "5cb441ff",
   "metadata": {},
   "outputs": [
    {
     "name": "stdout",
     "output_type": "stream",
     "text": [
      "[2, 5, 35, 99, 99]\n"
     ]
    }
   ],
   "source": [
    "print(li5)"
   ]
  },
  {
   "cell_type": "markdown",
   "id": "98e03b08",
   "metadata": {},
   "source": [
    "# reverse()"
   ]
  },
  {
   "cell_type": "code",
   "execution_count": 16,
   "id": "8732a6da",
   "metadata": {},
   "outputs": [
    {
     "name": "stdout",
     "output_type": "stream",
     "text": [
      "[99, 99, 35, 5, 2]\n"
     ]
    }
   ],
   "source": [
    "li5.reverse()#reverse order\n",
    "print(li5)"
   ]
  },
  {
   "cell_type": "markdown",
   "id": "6a9eebc8",
   "metadata": {},
   "source": [
    "# remove()"
   ]
  },
  {
   "cell_type": "code",
   "execution_count": 17,
   "id": "82e2db74",
   "metadata": {},
   "outputs": [
    {
     "name": "stdout",
     "output_type": "stream",
     "text": [
      "[99, 99, 5, 2]\n"
     ]
    }
   ],
   "source": [
    "li5.remove(35)\n",
    "print(li5)"
   ]
  },
  {
   "cell_type": "code",
   "execution_count": 18,
   "id": "63bba366",
   "metadata": {},
   "outputs": [
    {
     "name": "stdout",
     "output_type": "stream",
     "text": [
      "[99, 5, 2]\n"
     ]
    }
   ],
   "source": [
    "li5.remove(99)#removes one item\n",
    "print(li5)"
   ]
  },
  {
   "cell_type": "markdown",
   "id": "168a4888",
   "metadata": {},
   "source": [
    "# pop()"
   ]
  },
  {
   "cell_type": "code",
   "execution_count": 19,
   "id": "aaa89064",
   "metadata": {},
   "outputs": [
    {
     "data": {
      "text/plain": [
       "5"
      ]
     },
     "execution_count": 19,
     "metadata": {},
     "output_type": "execute_result"
    }
   ],
   "source": [
    "li5.pop(1)#removes in an index"
   ]
  },
  {
   "cell_type": "markdown",
   "id": "15c76119",
   "metadata": {},
   "source": [
    "# clear()"
   ]
  },
  {
   "cell_type": "code",
   "execution_count": 20,
   "id": "3778e6f8",
   "metadata": {},
   "outputs": [],
   "source": [
    "li5.clear()"
   ]
  },
  {
   "cell_type": "code",
   "execution_count": 21,
   "id": "749464ee",
   "metadata": {},
   "outputs": [
    {
     "data": {
      "text/plain": [
       "[]"
      ]
     },
     "execution_count": 21,
     "metadata": {},
     "output_type": "execute_result"
    }
   ],
   "source": [
    "li5"
   ]
  },
  {
   "cell_type": "markdown",
   "id": "2e5b36d7",
   "metadata": {},
   "source": [
    "# append()"
   ]
  },
  {
   "cell_type": "code",
   "execution_count": 22,
   "id": "c6fcd9f1",
   "metadata": {},
   "outputs": [
    {
     "data": {
      "text/plain": [
       "['ai']"
      ]
     },
     "execution_count": 22,
     "metadata": {},
     "output_type": "execute_result"
    }
   ],
   "source": [
    "li5.append('ai')#adds an item\n",
    "li5"
   ]
  },
  {
   "cell_type": "code",
   "execution_count": null,
   "id": "b7c6d6fd",
   "metadata": {},
   "outputs": [],
   "source": []
  }
 ],
 "metadata": {
  "kernelspec": {
   "display_name": "Python 3 (ipykernel)",
   "language": "python",
   "name": "python3"
  },
  "language_info": {
   "codemirror_mode": {
    "name": "ipython",
    "version": 3
   },
   "file_extension": ".py",
   "mimetype": "text/x-python",
   "name": "python",
   "nbconvert_exporter": "python",
   "pygments_lexer": "ipython3",
   "version": "3.10.9"
  }
 },
 "nbformat": 4,
 "nbformat_minor": 5
}

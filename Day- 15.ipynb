{
 "cells": [
  {
   "cell_type": "markdown",
   "id": "e7f49add",
   "metadata": {},
   "source": [
    "# List Comprehension"
   ]
  },
  {
   "cell_type": "code",
   "execution_count": 1,
   "id": "5ecc76cb",
   "metadata": {},
   "outputs": [
    {
     "name": "stdout",
     "output_type": "stream",
     "text": [
      "[0, 1, 2, 3, 4, 5, 6, 7, 8, 9]\n"
     ]
    }
   ],
   "source": [
    "list1 =[]\n",
    "for i in range(10):\n",
    "    list1.append(i)\n",
    "print(list1)"
   ]
  },
  {
   "cell_type": "code",
   "execution_count": 2,
   "id": "95a839f6",
   "metadata": {},
   "outputs": [
    {
     "name": "stdout",
     "output_type": "stream",
     "text": [
      "[0, 1, 2, 3, 4, 5, 6, 7, 8, 9]\n"
     ]
    }
   ],
   "source": [
    "list2 =[x for x in range(10)]#list comprehension\n",
    "print(list2)"
   ]
  },
  {
   "cell_type": "code",
   "execution_count": 4,
   "id": "ec5dc4be",
   "metadata": {},
   "outputs": [
    {
     "name": "stdout",
     "output_type": "stream",
     "text": [
      "[0, 2, 4, 6, 8]\n"
     ]
    }
   ],
   "source": [
    "list3 =[]\n",
    "for i in range(10):\n",
    "    if i%2==0: #even\n",
    "        list3.append(i)\n",
    "print(list3)"
   ]
  },
  {
   "cell_type": "code",
   "execution_count": 5,
   "id": "7c610441",
   "metadata": {},
   "outputs": [
    {
     "name": "stdout",
     "output_type": "stream",
     "text": [
      "[0, 2, 4, 6, 8]\n"
     ]
    }
   ],
   "source": [
    "list4 = [x for x in range(10) if x%2==0]#even\n",
    "print(list4)"
   ]
  },
  {
   "cell_type": "code",
   "execution_count": 6,
   "id": "5cc752aa",
   "metadata": {},
   "outputs": [
    {
     "name": "stdout",
     "output_type": "stream",
     "text": [
      "[1, 3, 5, 7, 9]\n"
     ]
    }
   ],
   "source": [
    "list5 =[]\n",
    "for i in range(10):\n",
    "    if i%2==1: #odd\n",
    "        list5.append(i)\n",
    "print(list5)"
   ]
  },
  {
   "cell_type": "code",
   "execution_count": 7,
   "id": "c3f57288",
   "metadata": {},
   "outputs": [
    {
     "name": "stdout",
     "output_type": "stream",
     "text": [
      "[1, 3, 5, 7, 9]\n"
     ]
    }
   ],
   "source": [
    "list6 = [x for x in range(10) if x%2==1]#odd\n",
    "print(list6)"
   ]
  },
  {
   "cell_type": "markdown",
   "id": "60beeb63",
   "metadata": {},
   "source": [
    "# iteration through list"
   ]
  },
  {
   "cell_type": "code",
   "execution_count": 8,
   "id": "ca2bc1e0",
   "metadata": {},
   "outputs": [
    {
     "name": "stdout",
     "output_type": "stream",
     "text": [
      "['ai', 'ds', True, 2, 3, 6]\n"
     ]
    }
   ],
   "source": [
    "list7 = ['ai','ds',True,2,3,6]\n",
    "list8 = [x for x in list7]\n",
    "print(list8)"
   ]
  },
  {
   "cell_type": "code",
   "execution_count": 9,
   "id": "7fc2c464",
   "metadata": {},
   "outputs": [
    {
     "name": "stdout",
     "output_type": "stream",
     "text": [
      "['ds', True, 2, 3, 6]\n"
     ]
    }
   ],
   "source": [
    "list9 = [x for x in list7 if x!='ai']\n",
    "print(list9)"
   ]
  },
  {
   "cell_type": "code",
   "execution_count": 10,
   "id": "bdafb977",
   "metadata": {},
   "outputs": [
    {
     "name": "stdout",
     "output_type": "stream",
     "text": [
      "[1, 3, 9, 27, 81, 243, 729, 2187, 6561, 19683]\n"
     ]
    }
   ],
   "source": [
    "list10 = [ 3**x for x in range(10)]\n",
    "print(list10)"
   ]
  },
  {
   "cell_type": "markdown",
   "id": "469a07ee",
   "metadata": {},
   "source": [
    "# List membership"
   ]
  },
  {
   "cell_type": "code",
   "execution_count": 11,
   "id": "36e54b7f",
   "metadata": {},
   "outputs": [
    {
     "data": {
      "text/plain": [
       "True"
      ]
     },
     "execution_count": 11,
     "metadata": {},
     "output_type": "execute_result"
    }
   ],
   "source": [
    "list11 =[2,4,6,8,10]\n",
    "2 in list11"
   ]
  },
  {
   "cell_type": "code",
   "execution_count": 12,
   "id": "1ea4d2af",
   "metadata": {},
   "outputs": [
    {
     "data": {
      "text/plain": [
       "False"
      ]
     },
     "execution_count": 12,
     "metadata": {},
     "output_type": "execute_result"
    }
   ],
   "source": [
    "3 in list11"
   ]
  },
  {
   "cell_type": "code",
   "execution_count": 13,
   "id": "b0019b54",
   "metadata": {},
   "outputs": [
    {
     "data": {
      "text/plain": [
       "True"
      ]
     },
     "execution_count": 13,
     "metadata": {},
     "output_type": "execute_result"
    }
   ],
   "source": [
    "5 not in list11"
   ]
  },
  {
   "cell_type": "code",
   "execution_count": null,
   "id": "d4a218a7",
   "metadata": {},
   "outputs": [],
   "source": []
  }
 ],
 "metadata": {
  "kernelspec": {
   "display_name": "Python 3 (ipykernel)",
   "language": "python",
   "name": "python3"
  },
  "language_info": {
   "codemirror_mode": {
    "name": "ipython",
    "version": 3
   },
   "file_extension": ".py",
   "mimetype": "text/x-python",
   "name": "python",
   "nbconvert_exporter": "python",
   "pygments_lexer": "ipython3",
   "version": "3.10.9"
  }
 },
 "nbformat": 4,
 "nbformat_minor": 5
}

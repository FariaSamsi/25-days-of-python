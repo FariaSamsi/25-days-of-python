{
 "cells": [
  {
   "cell_type": "markdown",
   "id": "16238341",
   "metadata": {},
   "source": [
    "# Tuple"
   ]
  },
  {
   "cell_type": "code",
   "execution_count": 1,
   "id": "1acc1b08",
   "metadata": {},
   "outputs": [
    {
     "data": {
      "text/plain": [
       "tuple"
      ]
     },
     "execution_count": 1,
     "metadata": {},
     "output_type": "execute_result"
    }
   ],
   "source": [
    "tup1 = ()\n",
    "type(tup1)"
   ]
  },
  {
   "cell_type": "code",
   "execution_count": 2,
   "id": "777158cd",
   "metadata": {},
   "outputs": [
    {
     "data": {
      "text/plain": [
       "('ds', 'samsi', 'ruet', 1, 3, 4, 5, [10, 100, 1000], True)"
      ]
     },
     "execution_count": 2,
     "metadata": {},
     "output_type": "execute_result"
    }
   ],
   "source": [
    "tup1 = ('ds','samsi','ruet',1,3,4,5,[10,100,1000],True)\n",
    "tup1"
   ]
  },
  {
   "cell_type": "code",
   "execution_count": 4,
   "id": "ef1c2dd2",
   "metadata": {},
   "outputs": [
    {
     "data": {
      "text/plain": [
       "'ruet'"
      ]
     },
     "execution_count": 4,
     "metadata": {},
     "output_type": "execute_result"
    }
   ],
   "source": [
    "tup1[2]"
   ]
  },
  {
   "cell_type": "code",
   "execution_count": 5,
   "id": "db67d211",
   "metadata": {},
   "outputs": [
    {
     "data": {
      "text/plain": [
       "('samsi', 'ruet', 1)"
      ]
     },
     "execution_count": 5,
     "metadata": {},
     "output_type": "execute_result"
    }
   ],
   "source": [
    "tup1[1:4]#indexing in range 1 to 3"
   ]
  },
  {
   "cell_type": "code",
   "execution_count": 6,
   "id": "5306f432",
   "metadata": {},
   "outputs": [
    {
     "data": {
      "text/plain": [
       "True"
      ]
     },
     "execution_count": 6,
     "metadata": {},
     "output_type": "execute_result"
    }
   ],
   "source": [
    "tup1[-1]#negative indexing"
   ]
  },
  {
   "cell_type": "code",
   "execution_count": 7,
   "id": "58627f8b",
   "metadata": {},
   "outputs": [
    {
     "data": {
      "text/plain": [
       "list"
      ]
     },
     "execution_count": 7,
     "metadata": {},
     "output_type": "execute_result"
    }
   ],
   "source": [
    "#single value list and tuple\n",
    "li = ['ruet']\n",
    "type(li)"
   ]
  },
  {
   "cell_type": "code",
   "execution_count": 8,
   "id": "b70230fa",
   "metadata": {},
   "outputs": [
    {
     "data": {
      "text/plain": [
       "str"
      ]
     },
     "execution_count": 8,
     "metadata": {},
     "output_type": "execute_result"
    }
   ],
   "source": [
    "tup2 =('faria')\n",
    "type(tup2)"
   ]
  },
  {
   "cell_type": "code",
   "execution_count": 9,
   "id": "6077ba81",
   "metadata": {},
   "outputs": [
    {
     "data": {
      "text/plain": [
       "tuple"
      ]
     },
     "execution_count": 9,
     "metadata": {},
     "output_type": "execute_result"
    }
   ],
   "source": [
    "tup2 = ('faria',)#add a comma for single value tuple\n",
    "type(tup2)"
   ]
  },
  {
   "cell_type": "code",
   "execution_count": 10,
   "id": "d0ee9cf6",
   "metadata": {},
   "outputs": [
    {
     "data": {
      "text/plain": [
       "('faria',)"
      ]
     },
     "execution_count": 10,
     "metadata": {},
     "output_type": "execute_result"
    }
   ],
   "source": [
    "tup2"
   ]
  },
  {
   "cell_type": "code",
   "execution_count": 11,
   "id": "0319dfad",
   "metadata": {},
   "outputs": [
    {
     "data": {
      "text/plain": [
       "'faria'"
      ]
     },
     "execution_count": 11,
     "metadata": {},
     "output_type": "execute_result"
    }
   ],
   "source": [
    "tup2[0]"
   ]
  },
  {
   "cell_type": "markdown",
   "id": "82201519",
   "metadata": {},
   "source": [
    "# Adding new value in a tuple"
   ]
  },
  {
   "cell_type": "code",
   "execution_count": 12,
   "id": "33634f72",
   "metadata": {},
   "outputs": [
    {
     "data": {
      "text/plain": [
       "['faria']"
      ]
     },
     "execution_count": 12,
     "metadata": {},
     "output_type": "execute_result"
    }
   ],
   "source": [
    "#at first convert tuple to list\n",
    "li = list(tup2)\n",
    "li"
   ]
  },
  {
   "cell_type": "code",
   "execution_count": 13,
   "id": "fc336431",
   "metadata": {},
   "outputs": [
    {
     "data": {
      "text/plain": [
       "list"
      ]
     },
     "execution_count": 13,
     "metadata": {},
     "output_type": "execute_result"
    }
   ],
   "source": [
    "type(li)"
   ]
  },
  {
   "cell_type": "code",
   "execution_count": 14,
   "id": "912c3004",
   "metadata": {},
   "outputs": [
    {
     "data": {
      "text/plain": [
       "['faria', 'ruet']"
      ]
     },
     "execution_count": 14,
     "metadata": {},
     "output_type": "execute_result"
    }
   ],
   "source": [
    "li.append('ruet')#adding new element\n",
    "li"
   ]
  },
  {
   "cell_type": "code",
   "execution_count": 15,
   "id": "7d95a77d",
   "metadata": {},
   "outputs": [
    {
     "data": {
      "text/plain": [
       "('faria', 'ruet')"
      ]
     },
     "execution_count": 15,
     "metadata": {},
     "output_type": "execute_result"
    }
   ],
   "source": [
    "tup2 = tuple(li)#conversting to tuple using tuple funstion\n",
    "tup2"
   ]
  },
  {
   "cell_type": "code",
   "execution_count": 16,
   "id": "41a8cf1e",
   "metadata": {},
   "outputs": [
    {
     "data": {
      "text/plain": [
       "tuple"
      ]
     },
     "execution_count": 16,
     "metadata": {},
     "output_type": "execute_result"
    }
   ],
   "source": [
    "type(tup2)"
   ]
  },
  {
   "cell_type": "markdown",
   "id": "38cce718",
   "metadata": {},
   "source": [
    "# tuple constructor"
   ]
  },
  {
   "cell_type": "code",
   "execution_count": 17,
   "id": "5ad16c24",
   "metadata": {},
   "outputs": [
    {
     "data": {
      "text/plain": [
       "('ai', 'ds', 'ml', 1, 2, 3)"
      ]
     },
     "execution_count": 17,
     "metadata": {},
     "output_type": "execute_result"
    }
   ],
   "source": [
    "tup3 = tuple(['ai','ds','ml',1,2,3])\n",
    "tup3"
   ]
  },
  {
   "cell_type": "code",
   "execution_count": 18,
   "id": "e8731e1b",
   "metadata": {},
   "outputs": [
    {
     "data": {
      "text/plain": [
       "tuple"
      ]
     },
     "execution_count": 18,
     "metadata": {},
     "output_type": "execute_result"
    }
   ],
   "source": [
    "tup4 = 10,70,80\n",
    "type(tup4)"
   ]
  },
  {
   "cell_type": "code",
   "execution_count": 19,
   "id": "2fefdaa7",
   "metadata": {},
   "outputs": [
    {
     "data": {
      "text/plain": [
       "str"
      ]
     },
     "execution_count": 19,
     "metadata": {},
     "output_type": "execute_result"
    }
   ],
   "source": [
    "tup5 = 'tyler'\n",
    "type(tup5)"
   ]
  },
  {
   "cell_type": "code",
   "execution_count": 20,
   "id": "62f36486",
   "metadata": {},
   "outputs": [
    {
     "data": {
      "text/plain": [
       "tuple"
      ]
     },
     "execution_count": 20,
     "metadata": {},
     "output_type": "execute_result"
    }
   ],
   "source": [
    "tup5 = 'tyler',\n",
    "type(tup5)"
   ]
  },
  {
   "cell_type": "markdown",
   "id": "7ee89a76",
   "metadata": {},
   "source": [
    "# tuple methods"
   ]
  },
  {
   "cell_type": "code",
   "execution_count": 23,
   "id": "cb357b7b",
   "metadata": {},
   "outputs": [
    {
     "data": {
      "text/plain": [
       "(10, 70, 80, 'tyler')"
      ]
     },
     "execution_count": 23,
     "metadata": {},
     "output_type": "execute_result"
    }
   ],
   "source": [
    "#concatation\n",
    "tup6 = tup4+tup5\n",
    "tup6"
   ]
  },
  {
   "cell_type": "code",
   "execution_count": 30,
   "id": "585570fb",
   "metadata": {},
   "outputs": [
    {
     "data": {
      "text/plain": [
       "(1, 2, 3, 4, 1, 2, 3, 4, 1, 2, 3, 4)"
      ]
     },
     "execution_count": 30,
     "metadata": {},
     "output_type": "execute_result"
    }
   ],
   "source": [
    "#multiplication\n",
    "tup7 = (1,2,3,4)\n",
    "tup7*3"
   ]
  },
  {
   "cell_type": "code",
   "execution_count": 33,
   "id": "db346da3",
   "metadata": {},
   "outputs": [
    {
     "data": {
      "text/plain": [
       "(10, 70, 80, 'tyler', 10, 70, 80, 'tyler', 10, 70, 80, 'tyler')"
      ]
     },
     "execution_count": 33,
     "metadata": {},
     "output_type": "execute_result"
    }
   ],
   "source": [
    "tup8 = tup6*3\n",
    "tup8"
   ]
  },
  {
   "cell_type": "code",
   "execution_count": 34,
   "id": "393cd3bc",
   "metadata": {},
   "outputs": [
    {
     "data": {
      "text/plain": [
       "3"
      ]
     },
     "execution_count": 34,
     "metadata": {},
     "output_type": "execute_result"
    }
   ],
   "source": [
    "#count\n",
    "tup8.count(70)"
   ]
  },
  {
   "cell_type": "code",
   "execution_count": 35,
   "id": "72eaa78a",
   "metadata": {},
   "outputs": [
    {
     "data": {
      "text/plain": [
       "3"
      ]
     },
     "execution_count": 35,
     "metadata": {},
     "output_type": "execute_result"
    }
   ],
   "source": [
    "#index\n",
    "tup8.index('tyler')"
   ]
  },
  {
   "cell_type": "code",
   "execution_count": 36,
   "id": "781e1bd7",
   "metadata": {},
   "outputs": [
    {
     "data": {
      "text/plain": [
       "True"
      ]
     },
     "execution_count": 36,
     "metadata": {},
     "output_type": "execute_result"
    }
   ],
   "source": [
    "#membership testing\n",
    "70 in tup8"
   ]
  },
  {
   "cell_type": "code",
   "execution_count": 37,
   "id": "70b701da",
   "metadata": {},
   "outputs": [
    {
     "data": {
      "text/plain": [
       "False"
      ]
     },
     "execution_count": 37,
     "metadata": {},
     "output_type": "execute_result"
    }
   ],
   "source": [
    "'researcher' in tup8"
   ]
  },
  {
   "cell_type": "code",
   "execution_count": 38,
   "id": "adb1776b",
   "metadata": {},
   "outputs": [],
   "source": [
    "#delete tuple\n",
    "del tup7"
   ]
  },
  {
   "cell_type": "code",
   "execution_count": 39,
   "id": "e5e5799a",
   "metadata": {},
   "outputs": [
    {
     "ename": "NameError",
     "evalue": "name 'tup7' is not defined",
     "output_type": "error",
     "traceback": [
      "\u001b[0;31m---------------------------------------------------------------------------\u001b[0m",
      "\u001b[0;31mNameError\u001b[0m                                 Traceback (most recent call last)",
      "Cell \u001b[0;32mIn[39], line 1\u001b[0m\n\u001b[0;32m----> 1\u001b[0m \u001b[43mtup7\u001b[49m\n",
      "\u001b[0;31mNameError\u001b[0m: name 'tup7' is not defined"
     ]
    }
   ],
   "source": [
    "tup7"
   ]
  },
  {
   "cell_type": "code",
   "execution_count": 40,
   "id": "7e701391",
   "metadata": {},
   "outputs": [
    {
     "name": "stdout",
     "output_type": "stream",
     "text": [
      "ds\n",
      "samsi\n",
      "ruet\n",
      "1\n",
      "3\n",
      "4\n",
      "5\n",
      "[10, 100, 1000]\n",
      "True\n"
     ]
    }
   ],
   "source": [
    "#loop\n",
    "tup1 = ('ds','samsi','ruet',1,3,4,5,[10,100,1000],True)\n",
    "for i in tup1:\n",
    "    print(i)"
   ]
  },
  {
   "cell_type": "code",
   "execution_count": 41,
   "id": "1fc18be3",
   "metadata": {},
   "outputs": [
    {
     "data": {
      "text/plain": [
       "100"
      ]
     },
     "execution_count": 41,
     "metadata": {},
     "output_type": "execute_result"
    }
   ],
   "source": [
    "tup1[-2][1]"
   ]
  },
  {
   "cell_type": "code",
   "execution_count": null,
   "id": "44f0ada7",
   "metadata": {},
   "outputs": [],
   "source": []
  }
 ],
 "metadata": {
  "kernelspec": {
   "display_name": "Python 3 (ipykernel)",
   "language": "python",
   "name": "python3"
  },
  "language_info": {
   "codemirror_mode": {
    "name": "ipython",
    "version": 3
   },
   "file_extension": ".py",
   "mimetype": "text/x-python",
   "name": "python",
   "nbconvert_exporter": "python",
   "pygments_lexer": "ipython3",
   "version": "3.10.9"
  }
 },
 "nbformat": 4,
 "nbformat_minor": 5
}

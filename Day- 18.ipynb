{
 "cells": [
  {
   "cell_type": "markdown",
   "id": "52b385d8",
   "metadata": {},
   "source": [
    "# Frozenset"
   ]
  },
  {
   "cell_type": "code",
   "execution_count": 1,
   "id": "0dcbd55a",
   "metadata": {},
   "outputs": [
    {
     "data": {
      "text/plain": [
       "frozenset"
      ]
     },
     "execution_count": 1,
     "metadata": {},
     "output_type": "execute_result"
    }
   ],
   "source": [
    "s1 = {1,2,3,4}\n",
    "s2 = frozenset(s1)\n",
    "type(s2)"
   ]
  },
  {
   "cell_type": "code",
   "execution_count": 2,
   "id": "adbf9849",
   "metadata": {},
   "outputs": [
    {
     "data": {
      "text/plain": [
       "frozenset({1, 2, 3, 4})"
      ]
     },
     "execution_count": 2,
     "metadata": {},
     "output_type": "execute_result"
    }
   ],
   "source": [
    "L = [1,2,3,4]\n",
    "s3= frozenset(L)\n",
    "s3"
   ]
  },
  {
   "cell_type": "code",
   "execution_count": 3,
   "id": "a7b07ced",
   "metadata": {},
   "outputs": [
    {
     "data": {
      "text/plain": [
       "frozenset({1, 2, 3, 4, 5, 6, 7})"
      ]
     },
     "execution_count": 3,
     "metadata": {},
     "output_type": "execute_result"
    }
   ],
   "source": [
    "s4 = {4,5,6,7}\n",
    "s2.union(s4)#union"
   ]
  },
  {
   "cell_type": "code",
   "execution_count": 4,
   "id": "c3ad39a8",
   "metadata": {},
   "outputs": [
    {
     "data": {
      "text/plain": [
       "frozenset({4})"
      ]
     },
     "execution_count": 4,
     "metadata": {},
     "output_type": "execute_result"
    }
   ],
   "source": [
    "s2.intersection(s4)#intersection"
   ]
  },
  {
   "cell_type": "code",
   "execution_count": 5,
   "id": "913319dc",
   "metadata": {},
   "outputs": [],
   "source": [
    "s5 = 'data science'#string frozenset\n",
    "s6 = frozenset(s5)"
   ]
  },
  {
   "cell_type": "code",
   "execution_count": 6,
   "id": "484f7176",
   "metadata": {},
   "outputs": [
    {
     "data": {
      "text/plain": [
       "frozenset({' ', 'a', 'c', 'd', 'e', 'i', 'n', 's', 't'})"
      ]
     },
     "execution_count": 6,
     "metadata": {},
     "output_type": "execute_result"
    }
   ],
   "source": [
    "s6"
   ]
  },
  {
   "cell_type": "code",
   "execution_count": 7,
   "id": "5fe33737",
   "metadata": {},
   "outputs": [
    {
     "data": {
      "text/plain": [
       "[['t'], ['a'], ['i'], ['c'], ['s'], ['d'], ['e'], [' '], ['n']]"
      ]
     },
     "execution_count": 7,
     "metadata": {},
     "output_type": "execute_result"
    }
   ],
   "source": [
    "#frozenset to list\n",
    "[list(x) for x in s6]"
   ]
  },
  {
   "cell_type": "code",
   "execution_count": 8,
   "id": "9a559846",
   "metadata": {},
   "outputs": [
    {
     "data": {
      "text/plain": [
       "[('t',), ('a',), ('i',), ('c',), ('s',), ('d',), ('e',), (' ',), ('n',)]"
      ]
     },
     "execution_count": 8,
     "metadata": {},
     "output_type": "execute_result"
    }
   ],
   "source": [
    "#frozenset to tuple\n",
    "[tuple(x) for x in s6]"
   ]
  },
  {
   "cell_type": "code",
   "execution_count": 9,
   "id": "148e51ae",
   "metadata": {},
   "outputs": [
    {
     "data": {
      "text/plain": [
       "[{'t'}, {'a'}, {'i'}, {'c'}, {'s'}, {'d'}, {'e'}, {' '}, {'n'}]"
      ]
     },
     "execution_count": 9,
     "metadata": {},
     "output_type": "execute_result"
    }
   ],
   "source": [
    "#frozenset to set\n",
    "[set(x) for x in s6]"
   ]
  },
  {
   "cell_type": "code",
   "execution_count": null,
   "id": "7821aa62",
   "metadata": {},
   "outputs": [],
   "source": []
  }
 ],
 "metadata": {
  "kernelspec": {
   "display_name": "Python 3 (ipykernel)",
   "language": "python",
   "name": "python3"
  },
  "language_info": {
   "codemirror_mode": {
    "name": "ipython",
    "version": 3
   },
   "file_extension": ".py",
   "mimetype": "text/x-python",
   "name": "python",
   "nbconvert_exporter": "python",
   "pygments_lexer": "ipython3",
   "version": "3.10.9"
  }
 },
 "nbformat": 4,
 "nbformat_minor": 5
}

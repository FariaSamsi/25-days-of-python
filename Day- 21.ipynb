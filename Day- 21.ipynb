{
 "cells": [
  {
   "cell_type": "markdown",
   "id": "41166292",
   "metadata": {},
   "source": [
    "# Dictionary in Python"
   ]
  },
  {
   "cell_type": "code",
   "execution_count": 1,
   "id": "27849515",
   "metadata": {},
   "outputs": [],
   "source": [
    "dic = {\n",
    "    'name': 'faria', 'varsity':'ruet'\n",
    "}"
   ]
  },
  {
   "cell_type": "code",
   "execution_count": 2,
   "id": "26a1e127",
   "metadata": {},
   "outputs": [
    {
     "data": {
      "text/plain": [
       "{'name': 'faria', 'varsity': 'ruet'}"
      ]
     },
     "execution_count": 2,
     "metadata": {},
     "output_type": "execute_result"
    }
   ],
   "source": [
    "dic"
   ]
  },
  {
   "cell_type": "code",
   "execution_count": 3,
   "id": "a49d18c1",
   "metadata": {},
   "outputs": [
    {
     "data": {
      "text/plain": [
       "dict_keys(['name', 'varsity'])"
      ]
     },
     "execution_count": 3,
     "metadata": {},
     "output_type": "execute_result"
    }
   ],
   "source": [
    "dic.keys()"
   ]
  },
  {
   "cell_type": "code",
   "execution_count": 4,
   "id": "15fef09b",
   "metadata": {},
   "outputs": [
    {
     "data": {
      "text/plain": [
       "dict_values(['faria', 'ruet'])"
      ]
     },
     "execution_count": 4,
     "metadata": {},
     "output_type": "execute_result"
    }
   ],
   "source": [
    "dic.values()"
   ]
  },
  {
   "cell_type": "code",
   "execution_count": 5,
   "id": "69d64d69",
   "metadata": {},
   "outputs": [
    {
     "data": {
      "text/plain": [
       "{'name': 'faria', 'varsity': 'ruet'}"
      ]
     },
     "execution_count": 5,
     "metadata": {},
     "output_type": "execute_result"
    }
   ],
   "source": [
    "dic2 = dic.copy()\n",
    "dic2"
   ]
  },
  {
   "cell_type": "code",
   "execution_count": 6,
   "id": "c17c4448",
   "metadata": {},
   "outputs": [
    {
     "data": {
      "text/plain": [
       "{'name': 'faria', 'varsity': 'buet'}"
      ]
     },
     "execution_count": 6,
     "metadata": {},
     "output_type": "execute_result"
    }
   ],
   "source": [
    "#changing value\n",
    "dic['varsity']= 'buet'\n",
    "dic"
   ]
  },
  {
   "cell_type": "code",
   "execution_count": 7,
   "id": "9cde8b66",
   "metadata": {},
   "outputs": [
    {
     "data": {
      "text/plain": [
       "{'name': 'faria', 'varsity': 'buet', 'subject': 'Ai'}"
      ]
     },
     "execution_count": 7,
     "metadata": {},
     "output_type": "execute_result"
    }
   ],
   "source": [
    "#adding new key and value\n",
    "dic['subject']='Ai'\n",
    "dic"
   ]
  },
  {
   "cell_type": "code",
   "execution_count": 9,
   "id": "aa364669",
   "metadata": {},
   "outputs": [
    {
     "data": {
      "text/plain": [
       "{'name': 'faria', 'varsity': 'buet', 'subject': 'data science'}"
      ]
     },
     "execution_count": 9,
     "metadata": {},
     "output_type": "execute_result"
    }
   ],
   "source": [
    "#updating or changing value\n",
    "dic.update({'subject':'data science'})\n",
    "dic"
   ]
  },
  {
   "cell_type": "code",
   "execution_count": 10,
   "id": "1f3e2a34",
   "metadata": {},
   "outputs": [
    {
     "data": {
      "text/plain": [
       "{'name': 'faria', 'varsity': 'buet'}"
      ]
     },
     "execution_count": 10,
     "metadata": {},
     "output_type": "execute_result"
    }
   ],
   "source": [
    "dic.popitem()\n",
    "dic"
   ]
  },
  {
   "cell_type": "code",
   "execution_count": 11,
   "id": "4f17c6d0",
   "metadata": {},
   "outputs": [
    {
     "data": {
      "text/plain": [
       "{'name': 'faria'}"
      ]
     },
     "execution_count": 11,
     "metadata": {},
     "output_type": "execute_result"
    }
   ],
   "source": [
    "dic.pop('varsity')\n",
    "dic"
   ]
  },
  {
   "cell_type": "code",
   "execution_count": 13,
   "id": "a3caf47a",
   "metadata": {},
   "outputs": [
    {
     "data": {
      "text/plain": [
       "{'name': 'faria', 'varsity': 'ruet', 'subject': 'data science'}"
      ]
     },
     "execution_count": 13,
     "metadata": {},
     "output_type": "execute_result"
    }
   ],
   "source": [
    "dic.update({'varsity':'ruet'})\n",
    "dic.update({'subject':'data science'})\n",
    "dic"
   ]
  },
  {
   "cell_type": "code",
   "execution_count": 19,
   "id": "76da72af",
   "metadata": {},
   "outputs": [
    {
     "data": {
      "text/plain": [
       "['name', 'varsity', 'subject']"
      ]
     },
     "execution_count": 19,
     "metadata": {},
     "output_type": "execute_result"
    }
   ],
   "source": [
    "#dictionary to list\n",
    "l1 = list(dic.keys())\n",
    "l1"
   ]
  },
  {
   "cell_type": "code",
   "execution_count": 20,
   "id": "139d6dc0",
   "metadata": {},
   "outputs": [
    {
     "data": {
      "text/plain": [
       "['faria', 'ruet', 'data science']"
      ]
     },
     "execution_count": 20,
     "metadata": {},
     "output_type": "execute_result"
    }
   ],
   "source": [
    "l2 = list(dic.values())\n",
    "l2"
   ]
  },
  {
   "cell_type": "markdown",
   "id": "53f31264",
   "metadata": {},
   "source": [
    "# Loop in dictionary"
   ]
  },
  {
   "cell_type": "code",
   "execution_count": 14,
   "id": "60aa7116",
   "metadata": {},
   "outputs": [
    {
     "name": "stdout",
     "output_type": "stream",
     "text": [
      "name\n",
      "varsity\n",
      "subject\n"
     ]
    }
   ],
   "source": [
    "for x in dic:\n",
    "    print(x)#prints keys"
   ]
  },
  {
   "cell_type": "code",
   "execution_count": 15,
   "id": "a3521a26",
   "metadata": {},
   "outputs": [
    {
     "name": "stdout",
     "output_type": "stream",
     "text": [
      "faria\n",
      "ruet\n",
      "data science\n"
     ]
    }
   ],
   "source": [
    " for x in dic:\n",
    "    print(dic[x])#prints values"
   ]
  },
  {
   "cell_type": "markdown",
   "id": "4d6ccc6f",
   "metadata": {},
   "source": [
    "# Dictionary input from user"
   ]
  },
  {
   "cell_type": "code",
   "execution_count": 17,
   "id": "b021d03c",
   "metadata": {},
   "outputs": [
    {
     "name": "stdout",
     "output_type": "stream",
     "text": [
      "Enter your items numbers: 5\n",
      "Enter your key: name\n",
      "Enter your value: faria\n",
      "Enter your key: varsity\n",
      "Enter your value: ruet\n",
      "Enter your key: subject\n",
      "Enter your value: eee\n",
      "Enter your key: age\n",
      "Enter your value: 26\n",
      "Enter your key: gender\n",
      "Enter your value: female\n"
     ]
    },
    {
     "data": {
      "text/plain": [
       "{'name': 'faria',\n",
       " 'varsity': 'ruet',\n",
       " 'subject': 'eee',\n",
       " 'age': '26',\n",
       " 'gender': 'female'}"
      ]
     },
     "execution_count": 17,
     "metadata": {},
     "output_type": "execute_result"
    }
   ],
   "source": [
    "dic3 = {}\n",
    "items = int(input(\"Enter your items numbers: \"))\n",
    "for x in range(items):\n",
    "    key = input(\"Enter your key: \")\n",
    "    value = input(\"Enter your value: \")\n",
    "    dic3[key]=value\n",
    "dic3"
   ]
  },
  {
   "cell_type": "code",
   "execution_count": null,
   "id": "46c493d7",
   "metadata": {},
   "outputs": [],
   "source": []
  }
 ],
 "metadata": {
  "kernelspec": {
   "display_name": "Python 3 (ipykernel)",
   "language": "python",
   "name": "python3"
  },
  "language_info": {
   "codemirror_mode": {
    "name": "ipython",
    "version": 3
   },
   "file_extension": ".py",
   "mimetype": "text/x-python",
   "name": "python",
   "nbconvert_exporter": "python",
   "pygments_lexer": "ipython3",
   "version": "3.10.9"
  }
 },
 "nbformat": 4,
 "nbformat_minor": 5
}

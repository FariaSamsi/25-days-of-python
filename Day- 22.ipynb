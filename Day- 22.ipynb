{
 "cells": [
  {
   "cell_type": "markdown",
   "id": "111d50bb",
   "metadata": {},
   "source": [
    "# Zipping"
   ]
  },
  {
   "cell_type": "code",
   "execution_count": 1,
   "id": "e14b6448",
   "metadata": {},
   "outputs": [
    {
     "data": {
      "text/plain": [
       "[('faria', 'eee'), ('nithi', 'ete'), ('nabila', 'urp')]"
      ]
     },
     "execution_count": 1,
     "metadata": {},
     "output_type": "execute_result"
    }
   ],
   "source": [
    "name = ['faria','nithi','nabila']\n",
    "dept = ['eee','ete','urp']\n",
    "zipped= zip(name,dept)\n",
    "list_zipped = list(zipped)\n",
    "list_zipped"
   ]
  },
  {
   "cell_type": "code",
   "execution_count": 3,
   "id": "7715cc81",
   "metadata": {},
   "outputs": [
    {
     "data": {
      "text/plain": [
       "(('faria', 'eee'), ('nithi', 'ete'), ('nabila', 'urp'))"
      ]
     },
     "execution_count": 3,
     "metadata": {},
     "output_type": "execute_result"
    }
   ],
   "source": [
    "name = ['faria','nithi','nabila']\n",
    "dept = ['eee','ete','urp']\n",
    "zipped= zip(name,dept)\n",
    "tuple_zipped = tuple(zipped)\n",
    "tuple_zipped"
   ]
  },
  {
   "cell_type": "code",
   "execution_count": 4,
   "id": "fd54fd52",
   "metadata": {},
   "outputs": [
    {
     "data": {
      "text/plain": [
       "{'faria': 'eee', 'nithi': 'ete', 'nabila': 'urp'}"
      ]
     },
     "execution_count": 4,
     "metadata": {},
     "output_type": "execute_result"
    }
   ],
   "source": [
    "name = ['faria','nithi','nabila']\n",
    "dept = ['eee','ete','urp']\n",
    "zipped= zip(name,dept)\n",
    "dic_zipped = dict(zipped)\n",
    "dic_zipped"
   ]
  },
  {
   "cell_type": "markdown",
   "id": "1397990c",
   "metadata": {},
   "source": [
    "# Unzip"
   ]
  },
  {
   "cell_type": "code",
   "execution_count": 14,
   "id": "511436d7",
   "metadata": {},
   "outputs": [
    {
     "data": {
      "text/plain": [
       "('faria', 'nithi', 'nabila')"
      ]
     },
     "execution_count": 14,
     "metadata": {},
     "output_type": "execute_result"
    }
   ],
   "source": [
    "name = ['faria','nithi','nabila']\n",
    "dept = ['eee','ete','urp']\n",
    "zipped= zip(name,dept)\n",
    "l_zipped = list(zipped)\n",
    "name1,dept1 = zip(*l_zipped)\n",
    "name1"
   ]
  },
  {
   "cell_type": "code",
   "execution_count": null,
   "id": "a650c903",
   "metadata": {},
   "outputs": [],
   "source": []
  }
 ],
 "metadata": {
  "kernelspec": {
   "display_name": "Python 3 (ipykernel)",
   "language": "python",
   "name": "python3"
  },
  "language_info": {
   "codemirror_mode": {
    "name": "ipython",
    "version": 3
   },
   "file_extension": ".py",
   "mimetype": "text/x-python",
   "name": "python",
   "nbconvert_exporter": "python",
   "pygments_lexer": "ipython3",
   "version": "3.10.9"
  }
 },
 "nbformat": 4,
 "nbformat_minor": 5
}

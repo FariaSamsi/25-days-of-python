{
 "cells": [
  {
   "cell_type": "markdown",
   "id": "48bee997",
   "metadata": {},
   "source": [
    "# How to search and replace text in a file in python"
   ]
  },
  {
   "cell_type": "code",
   "execution_count": 6,
   "id": "740b0c31",
   "metadata": {},
   "outputs": [],
   "source": [
    "search_word = 'America'\n",
    "replace_word = 'Germany'\n",
    "with open(r'text1.txt','r') as file:\n",
    "    data = file.read()\n",
    "    data = data.replace(search_word,replace_word)"
   ]
  },
  {
   "cell_type": "code",
   "execution_count": 7,
   "id": "9abe3b65",
   "metadata": {},
   "outputs": [],
   "source": [
    "#writing\n",
    "with open(r'text1.txt','w') as file:\n",
    "    file.write(data)"
   ]
  },
  {
   "cell_type": "code",
   "execution_count": 8,
   "id": "22ab48d1",
   "metadata": {},
   "outputs": [
    {
     "data": {
      "text/plain": [
       "'I have got to go to Germany'"
      ]
     },
     "execution_count": 8,
     "metadata": {},
     "output_type": "execute_result"
    }
   ],
   "source": [
    "#direct\n",
    "text= 'I have got to go to America'\n",
    "import re #re is reading expression\n",
    "re.sub(search_word,replace_word,text)"
   ]
  },
  {
   "cell_type": "code",
   "execution_count": null,
   "id": "11296a8e",
   "metadata": {},
   "outputs": [],
   "source": []
  }
 ],
 "metadata": {
  "kernelspec": {
   "display_name": "Python 3 (ipykernel)",
   "language": "python",
   "name": "python3"
  },
  "language_info": {
   "codemirror_mode": {
    "name": "ipython",
    "version": 3
   },
   "file_extension": ".py",
   "mimetype": "text/x-python",
   "name": "python",
   "nbconvert_exporter": "python",
   "pygments_lexer": "ipython3",
   "version": "3.10.9"
  }
 },
 "nbformat": 4,
 "nbformat_minor": 5
}

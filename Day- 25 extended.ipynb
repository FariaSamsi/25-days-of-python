{
 "cells": [
  {
   "cell_type": "code",
   "execution_count": 1,
   "id": "c960b219",
   "metadata": {},
   "outputs": [
    {
     "name": "stdout",
     "output_type": "stream",
     "text": [
      "I\n",
      "love\n",
      "BD\n",
      "usa\n"
     ]
    }
   ],
   "source": [
    "#continue in for loop\n",
    "sen = 'I love BD and usa'\n",
    "for i in sen.split():\n",
    "    if i=='and':\n",
    "        continue\n",
    "    print(i)"
   ]
  },
  {
   "cell_type": "code",
   "execution_count": 2,
   "id": "522ea12a",
   "metadata": {},
   "outputs": [
    {
     "name": "stdout",
     "output_type": "stream",
     "text": [
      "I\n",
      "love\n",
      "BD\n",
      "usa\n"
     ]
    }
   ],
   "source": [
    "#continue in while loop\n",
    "i = 0\n",
    "while i<len(sen.split()):\n",
    "    if sen.split()[i]=='and':\n",
    "        i=i+1\n",
    "        continue\n",
    "    else:\n",
    "        print(sen.split()[i])\n",
    "        i=i+1\n",
    "    "
   ]
  },
  {
   "cell_type": "code",
   "execution_count": null,
   "id": "e7404289",
   "metadata": {},
   "outputs": [],
   "source": []
  }
 ],
 "metadata": {
  "kernelspec": {
   "display_name": "Python 3 (ipykernel)",
   "language": "python",
   "name": "python3"
  },
  "language_info": {
   "codemirror_mode": {
    "name": "ipython",
    "version": 3
   },
   "file_extension": ".py",
   "mimetype": "text/x-python",
   "name": "python",
   "nbconvert_exporter": "python",
   "pygments_lexer": "ipython3",
   "version": "3.10.9"
  }
 },
 "nbformat": 4,
 "nbformat_minor": 5
}
